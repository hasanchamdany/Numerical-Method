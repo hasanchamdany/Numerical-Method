{
  "nbformat": 4,
  "nbformat_minor": 0,
  "metadata": {
    "colab": {
      "name": "PDE Explained.ipynb",
      "provenance": []
    },
    "kernelspec": {
      "name": "python3",
      "display_name": "Python 3"
    },
    "language_info": {
      "name": "python"
    }
  },
  "cells": [
    {
      "cell_type": "markdown",
      "metadata": {
        "id": "fvjW32NfBv-_"
      },
      "source": [
        "##Metode Implisit"
      ]
    },
    {
      "cell_type": "code",
      "metadata": {
        "colab": {
          "base_uri": "https://localhost:8080/"
        },
        "id": "qtnS9bGqBre2",
        "outputId": "a0c52de1-f824-465a-b4ec-9f57d53ce765"
      },
      "source": [
        "import pandas as pd\n",
        "import numpy as np\n",
        "import time\n",
        "\n",
        "def CreateMatrixImplicitParabol(T, q):\n",
        "    I = T.size\n",
        "    A = np.zeros((I, I))\n",
        "    B = np.zeros(I)\n",
        "\n",
        "    for i in range(1, I-1):\n",
        "        B[i] += T[i]\n",
        "\n",
        "        if i == 1:\n",
        "            B[i] += q*T[i-1]\n",
        "        else:\n",
        "            A[i, i-1] = -q\n",
        "\n",
        "        A[i, i] = 1 + 2*q\n",
        "\n",
        "        if i+2 == I:\n",
        "            B[i] += q*T[i+1]\n",
        "        else:\n",
        "            A[i, i+1] = -q\n",
        "\n",
        "    return [A[1:I-1, 1:I-1], B[1:I-1]]\n",
        "\n",
        "\n",
        "def IterateImplicitParabol(Tj, j, J, q, to):\n",
        "    A, B = CreateMatrixImplicitParabol(Tj, q)\n",
        "    X = np.linalg.solve(A, B)\n",
        "\n",
        "    Tjj = np.concatenate((Tj[0], X, Tj[-1]), axis=None)\n",
        "\n",
        "    if j < J:\n",
        "        return IterateImplicitParabol(Tjj, j+1, J, q, to)\n",
        "    ti=time.time()\n",
        "    print(\"Waktu Yang dibutuhkan:\", ti-to)\n",
        "    return Tjj\n",
        "\n",
        "\n",
        "def ImplicitParabol(env, l, r, I, J, q):\n",
        "    to = time.time()\n",
        "    Tj0 = np.concatenate((l, np.full(I, env, dtype=\"float32\"), r), axis=None)\n",
        "\n",
        "    return IterateImplicitParabol(Tj0, 1, J, q, to)\n",
        "\n",
        "\n",
        "ImplicitParabol(env=0, l=80, r=20, I=4, J=10, q=0.1)"
      ],
      "execution_count": null,
      "outputs": [
        {
          "output_type": "stream",
          "text": [
            "Waktu Yang dibutuhkan: 0.0005962848663330078\n"
          ],
          "name": "stdout"
        },
        {
          "output_type": "execute_result",
          "data": {
            "text/plain": [
              "array([80.        , 37.36989882, 14.10277234,  7.0857031 , 10.18847221,\n",
              "       20.        ])"
            ]
          },
          "metadata": {
            "tags": []
          },
          "execution_count": 4
        }
      ]
    },
    {
      "cell_type": "markdown",
      "metadata": {
        "id": "FLo2muX7CtX_"
      },
      "source": [
        "##Metode Explisit"
      ]
    },
    {
      "cell_type": "code",
      "metadata": {
        "colab": {
          "base_uri": "https://localhost:8080/"
        },
        "id": "QHH8LKKcCm2s",
        "outputId": "5c51de17-ab83-4cf1-f5cc-65b069f64091"
      },
      "source": [
        "import numpy as np\n",
        "import pandas as pd\n",
        "import time\n",
        "\n",
        "def IterateExplicitParabol(Tj, j, I, J, q, to):\n",
        "    Tjj = Tj.copy()\n",
        "\n",
        "    for i in range(1, I+1):\n",
        "        Tjj[i] = Tj[i] + q*(Tj[i-1] - 2*Tj[i] + Tj[i+1])\n",
        "\n",
        "    if j < J:\n",
        "        return IterateExplicitParabol(Tjj, j+1, I, J, q, to)\n",
        "    ti = time.time()\n",
        "    print(\"Waktu yang dibutuhkan:\", ti-to)\n",
        "    return Tjj\n",
        "\n",
        "\n",
        "def ExplicitParabol(env, l, r, I, J, q):\n",
        "    to = time.time()\n",
        "    Tj0 = np.concatenate((l, np.full(I, env, dtype=\"float32\"), r), axis=None)\n",
        "    #ti = time.time()\n",
        "    #print(\"Waktu yang dibutuhkan:\", ti-to)\n",
        "    return IterateExplicitParabol(Tj0, 1, I, J, q, to)\n",
        "\n",
        "\n",
        "ExplicitParabol(env=0, l=80, r=20, I=4, J=10, q=0.1)"
      ],
      "execution_count": null,
      "outputs": [
        {
          "output_type": "stream",
          "text": [
            "Waktu yang dibutuhkan: 0.0010597705841064453\n"
          ],
          "name": "stdout"
        },
        {
          "output_type": "execute_result",
          "data": {
            "text/plain": [
              "array([80.      , 39.250828, 14.600745,  6.90546 , 10.401878, 20.      ],\n",
              "      dtype=float32)"
            ]
          },
          "metadata": {
            "tags": []
          },
          "execution_count": 5
        }
      ]
    },
    {
      "cell_type": "markdown",
      "metadata": {
        "id": "GNenFrItDBtn"
      },
      "source": [
        "##Metode Crank-Nicolson"
      ]
    },
    {
      "cell_type": "code",
      "metadata": {
        "colab": {
          "base_uri": "https://localhost:8080/"
        },
        "id": "eOCM3YbkDHRn",
        "outputId": "aad7f57d-9e10-4ee8-b930-27a60680cd76"
      },
      "source": [
        "import numpy as np\n",
        "import pandas as pd\n",
        "import time\n",
        "\n",
        "def CreateMatrixCrankNicolson(T, q):\n",
        "    I = T.size\n",
        "    A = np.zeros((I, I))\n",
        "    B = np.zeros(I)\n",
        "\n",
        "    for i in range(1, I-1):\n",
        "        B[i] += q*T[i-1] + 2*(1-q)*T[i] + q*T[i+1]\n",
        "\n",
        "        if i == 1:\n",
        "            B[i] += q*T[i-1]\n",
        "        else:\n",
        "            A[i, i-1] = -q\n",
        "\n",
        "        A[i, i] = 2 + 2*q\n",
        "\n",
        "        if i+2 == I:\n",
        "            B[i] += q*T[i+1]\n",
        "        else:\n",
        "            A[i, i+1] = -q\n",
        "\n",
        "    return [A[1:I-1, 1:I-1], B[1:I-1]]\n",
        "\n",
        "\n",
        "def IterateCrankNicolson(Tj, j, J, q,to):\n",
        "    A, B = CreateMatrixCrankNicolson(Tj, q)\n",
        "    X = np.linalg.solve(A, B)\n",
        "\n",
        "    Tjj = np.concatenate((Tj[0], X, Tj[-1]), axis=None)\n",
        "\n",
        "    if j < J:\n",
        "        return IterateCrankNicolson(Tjj, j+1, J, q, to)\n",
        "    ti = time.time()\n",
        "    print(\"Waktu yang dibutuhkan:\", ti-to)\n",
        "    return Tjj\n",
        "\n",
        "\n",
        "def CrankNicolson(env, l, r, I, J, q):\n",
        "    to = time.time()\n",
        "    Tj0 = np.concatenate((l, np.full(I, env, dtype=\"float32\"), r), axis=None)\n",
        "\n",
        "    return IterateCrankNicolson(Tj0, 1, J, q, to)\n",
        "\n",
        "\n",
        "CrankNicolson(env=0, l=80, r=20, I=4, J=10, q=0.1)"
      ],
      "execution_count": null,
      "outputs": [
        {
          "output_type": "stream",
          "text": [
            "Waktu yang dibutuhkan: 0.0006704330444335938\n"
          ],
          "name": "stdout"
        },
        {
          "output_type": "execute_result",
          "data": {
            "text/plain": [
              "array([80.        , 38.31996119, 14.32360929,  6.99685697, 10.30890058,\n",
              "       20.        ])"
            ]
          },
          "metadata": {
            "tags": []
          },
          "execution_count": 6
        }
      ]
    }
  ]
}