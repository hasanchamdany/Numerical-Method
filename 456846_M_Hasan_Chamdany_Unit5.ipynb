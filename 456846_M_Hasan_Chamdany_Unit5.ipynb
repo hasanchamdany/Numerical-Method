{
  "nbformat": 4,
  "nbformat_minor": 0,
  "metadata": {
    "colab": {
      "name": "456846_M Hasan Chamdany_Unit5.ipynb",
      "provenance": [],
      "collapsed_sections": []
    },
    "kernelspec": {
      "name": "python3",
      "display_name": "Python 3"
    },
    "language_info": {
      "name": "python"
    }
  },
  "cells": [
    {
      "cell_type": "markdown",
      "metadata": {
        "id": "JK5PTZmbPDSR"
      },
      "source": [
        "# PRAKTIKUM METODE NUMERIS Unit 5"
      ]
    },
    {
      "cell_type": "markdown",
      "metadata": {
        "id": "ssVEJZNJPcu1"
      },
      "source": [
        "## **LO4-Solusi persamaan**"
      ]
    },
    {
      "cell_type": "markdown",
      "metadata": {
        "id": "xmpPJIq-Pngr"
      },
      "source": [
        "Nama = Muchammad Hasan Chamdany                                      \n",
        "NIM  = 20/456846/TK/50670"
      ]
    },
    {
      "cell_type": "markdown",
      "metadata": {
        "id": "WQy3skEjcpve"
      },
      "source": [
        "#**Simpson's 1/3 m Rule**"
      ]
    },
    {
      "cell_type": "markdown",
      "metadata": {
        "id": "TKur2TnwMNbg"
      },
      "source": [
        "##Source Code :"
      ]
    },
    {
      "cell_type": "code",
      "metadata": {
        "colab": {
          "base_uri": "https://localhost:8080/",
          "height": 0
        },
        "id": "lE4hrsUxGE0b",
        "outputId": "fb0be41b-c4b9-4fa7-9255-cc57fae3119b"
      },
      "source": [
        "import numpy as np\n",
        "from scipy import integrate \n",
        "\n",
        "def f(x):\n",
        "\treturn 8 + 4*np.cos(x)\n",
        "\n",
        "def simpsons13m( a, b, n ):\n",
        "\n",
        "\th = ( b - a )/n\n",
        "\tx = list()\n",
        "\tfx = list()\n",
        " \n",
        "\ti = 0\n",
        "\twhile i<= n:\n",
        "\t\tx.append(a + i * h)\n",
        "\t\tfx.append(f(x[i]))\n",
        "\t\ti += 1\n",
        "\n",
        "\tresult = 0\n",
        "\ti = 0\n",
        "\twhile i<= n:\n",
        "\t\tif i == 0 or i == n:\n",
        "\t\t\tresult+= fx[i]\n",
        "\t\telif i % 2 != 0:\n",
        "\t\t\tresult+= 4 * fx[i]\n",
        "\t\telse:\n",
        "\t\t\tresult+= 2 * fx[i]\n",
        "\t\ti+= 1\n",
        "\tresult = result * (h / 3)\n",
        "\treturn result\n",
        "\n",
        "print(\"Hasil Simpson's n = 2 --> %.5f\"% simpsons13m(a = 0, b = np.pi/2, n=2))\n",
        "print(\"Hasil Simpson's n = 4 --> %.5f\"% simpsons13m(a = 0, b = np.pi/2, n=4))\n",
        "print(\"True Value = 16.56637\")"
      ],
      "execution_count": 38,
      "outputs": [
        {
          "output_type": "stream",
          "text": [
            "Hasil Simpson's n = 2 --> 16.57549\n",
            "Hasil Simpson's n = 4 --> 16.56691\n",
            "True Value = 16.56637\n"
          ],
          "name": "stdout"
        }
      ]
    },
    {
      "cell_type": "markdown",
      "metadata": {
        "id": "8Dv21maoMAW4"
      },
      "source": [
        "## Analisis :"
      ]
    },
    {
      "cell_type": "markdown",
      "metadata": {
        "id": "u4k2vVhUMV5-"
      },
      "source": [
        "dari hasil perhitungan menggunakan program Simpson's Rule 1/3 m yang telah dibuat, didapatkan bahwasannya ketika n lebih besar, maka akan semakin mendekati hasil dan nilai error nya semakin kecil. oleh karena itu, dengan menghitung secara analitik nilai dari True Value, didapat kesimpulan n = 4 lebih mendekati nilai dari True Value (16.56637)."
      ]
    },
    {
      "cell_type": "markdown",
      "metadata": {
        "id": "wqGfFNE7NBHm"
      },
      "source": [
        "#**Trapezoid**"
      ]
    },
    {
      "cell_type": "markdown",
      "metadata": {
        "id": "zLsj_Gl-NMft"
      },
      "source": [
        "##Source Code :"
      ]
    },
    {
      "cell_type": "code",
      "metadata": {
        "colab": {
          "base_uri": "https://localhost:8080/",
          "height": 0
        },
        "id": "cxYYn9xQNOv0",
        "outputId": "3287a668-ba52-447f-b0c0-1674e9e567b9"
      },
      "source": [
        "import numpy as np\n",
        "from scipy import integrate\n",
        "\n",
        "F = np.vectorize(f)\n",
        "\n",
        "# n = 2\n",
        "X2 = np.array([0, (np.pi/4), (np.pi/2)])\n",
        "Y1 = F(X2)\n",
        "# n = 4\n",
        "X4 = np.array([0, (np.pi/8), (np.pi/4), (np.pi/2)])\n",
        "Y2 = F(X4)\n",
        "\n",
        "ResultN2 = np.trapz(Y1, X2)\n",
        "ResultN4 = np.trapz(Y2, X4)\n",
        "\n",
        "print(\"Trapezoid (n=2) -->\",ResultN2)\n",
        "print(\"Trapezoid (n=4) -->\",ResultN4)"
      ],
      "execution_count": 37,
      "outputs": [
        {
          "output_type": "stream",
          "text": [
            "Trapezoid (n=2) --> 16.358608410233252\n",
            "Trapezoid (n=4) --> 16.469076455635722\n"
          ],
          "name": "stdout"
        }
      ]
    },
    {
      "cell_type": "markdown",
      "metadata": {
        "id": "ICa5KRP1bvIC"
      },
      "source": [
        "## Analisis"
      ]
    },
    {
      "cell_type": "markdown",
      "metadata": {
        "id": "mbmMZfOibzmU"
      },
      "source": [
        "Dari hasil perhitungan menggunakan program Trapezoid dengan bantuan scipy.integrate  (numpy.trapz) didapatkan hasil Trapezoid (n=2) --> 16.358608410233252 dan\n",
        "Trapezoid (n=4) --> 16.469076455635722. Sedangkan True Value = 16.56637. Dengan Demikian hasil yang lebih mendekati True Value adalah menggunakan Simpson's Rule dengan banyak segmen (n)"
      ]
    },
    {
      "cell_type": "markdown",
      "metadata": {
        "id": "Xai8KnB5ctAT"
      },
      "source": [
        "#**Kesimpulan**"
      ]
    },
    {
      "cell_type": "markdown",
      "metadata": {
        "id": "PpE240gXcvvG"
      },
      "source": [
        "Dapat disimpulkan pada praktikum Metode Numeris Unit 5 ini bahwasannya semakin banyak segmen yang dibentuk, errornya akan semakin kecil, sehingga hasil dari perhitungan tersebut akan semakin mendekati dengan True Value (nilai sebenarnya) dan didapatkan kesimpulan terhadap hasil yang di uji menggunakan metode Simpson's 1/3 Vs Trapezoid dengan hasil Simpson's 1/3 lebih mendekati True Value dibanding dengan Trapezoid"
      ]
    }
  ]
}